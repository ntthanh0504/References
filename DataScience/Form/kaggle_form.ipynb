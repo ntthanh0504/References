{
 "cells": [
  {
   "cell_type": "markdown",
   "metadata": {},
   "source": [
    "<!DOCTYPE html>\n",
    "<html>\n",
    "<head>\n",
    "<title>Upload Picture</title>\n",
    "<style>\n",
    "body {\n",
    "  background-color: black;\n",
    "}\n",
    "</style>\n",
    "</head>\n",
    "<body>\n",
    "<h1>Upload Your Picture</h1>\n",
    "\n",
    "<form action=\"upload.php\" method=\"post\" enctype=\"multipart/form-data\">\n",
    "<label for=\"file\">Select your picture:</label>\n",
    "<input type=\"file\" id=\"file\" name=\"file\">\n",
    "<br>\n",
    "<input type=\"submit\" value=\"Upload\">\n",
    "</form>\n",
    "</body>\n",
    "</html>\n"
   ]
  },
  {
   "cell_type": "markdown",
   "metadata": {},
   "source": [
    "[//]: <> (Table of content)\n",
    "<a id=\"top\"></a>\n",
    "# <div style=\"padding:25px;color:cyan;margin:0;font-size:35px;font-family:Arial;text-align:left;display:fill;border-radius:5px;background-color:#000000;border: 2px solid blue;overflow:hidden\"><b>Table of content</b></div>\n",
    "\n",
    "<div style=\"background-color:#CCFFCC; padding:30px; font-size:15px; color: #4E5672; border: 1px solid #034914\">\n",
    "    \n",
    "* [1. Introduction](#1)\n",
    "  \n",
    "    - [Problem statement](#1.1)\n",
    "    - [Data description](#1.2)\n",
    "    - [About license](#1.3)\n",
    "    \n",
    "* [2. Import Libraries](#2) \n",
    "\n",
    "* [3. Crawling Dataset](#3)\n",
    "    \n",
    "* [4. Preprocessing](#4)\n",
    "\n",
    "    - [Read raw data](#4.1)\n",
    "    - [Exploring data](#4.2)\n",
    "    - [Cleaning data](#4.3)\n",
    "    - [Transformating data](#4.4)\n",
    "\n",
    "* [5. Exploratory Data Analysis](#5)\n",
    "\n",
    "    - [Exploring data](#5.1)\n",
    "    - [Make question](#5.2)\n",
    "\n",
    "* [6. Machine Learning model](#6)\n",
    "\n",
    "    - [Data preparation](#6.1)\n",
    "    - [Feature engineering](#6.2)\n",
    "    - [Training model](#6.3)\n",
    "    - [Evaluation](#6.4)\n",
    "    - [Prediction](#6.5)\n",
    "    - [Results analysis](#6.6)\n",
    "    \n",
    "* [7. Conclusion](#7)\n",
    "\n",
    "* [8. Author Message](#8)\n",
    "\n",
    "</div>"
   ]
  },
  {
   "cell_type": "markdown",
   "metadata": {},
   "source": [
    "<a id=\"1\"></a>\n",
    "# <div style=\"padding: 20px; color: cyan; margin: 0; font-size: 30px; font-family: Arial; text-align: left; border-radius: 5px; background-color: #000000; border: 2px solid blue;\"><b>Introduction</b></div>"
   ]
  },
  {
   "cell_type": "markdown",
   "metadata": {},
   "source": [
    "<a id=\"1.1\"></a>\n",
    "<h2 style=\" font-family: Arial; font-size: 20px; font-style: normal; font-weight: normal; text-decoration: none; text-transform: none; letter-spacing: 2px; color: #CCFFFF; padding: 15px;  border-bottom: 2px solid blue;\n",
    "\"><b>Problem</b> statement"
   ]
  },
  {
   "cell_type": "markdown",
   "metadata": {},
   "source": [
    "<div style=\"font-size:14px; font-family:Verdana; border-radius:10px; border: #4E5672 solid; padding: 15px; background-color: #CCFFCC; text-align:left; color: #4E5672\">\n",
    "\n",
    "<h3 align=\"left\"><font color='#4E5672'>📝 Description:</font></h3>\n",
    "\n",
    "On going!\n",
    "\n",
    "</div>"
   ]
  },
  {
   "cell_type": "markdown",
   "metadata": {},
   "source": [
    "<a id=\"1.2\"></a>\n",
    "<h2 style=\" font-family: Arial; font-size: 20px; font-style: normal; font-weight: normal; text-decoration: none; text-transform: none; letter-spacing: 2px; color: #CCFFFF; padding: 15px;  border-bottom: 2px solid blue;\n",
    "\"><b>Data</b> description"
   ]
  },
  {
   "cell_type": "markdown",
   "metadata": {},
   "source": [
    "<div style=\"font-size:14px; font-family:Verdana; border-radius:10px; border: #4E5672 solid; padding: 15px; background-color: #CCFFCC; text-align:left; color: #4E5672\">\n",
    "\n",
    "<h3 align=\"left\"><font color='#4E5672'>👀 Features: </font></h3>\n",
    "On going!\n",
    "    \n",
    "</div>\n",
    "\n"
   ]
  },
  {
   "cell_type": "markdown",
   "metadata": {},
   "source": [
    "<a id=\"1.3\"></a>\n",
    "<h2 style=\" font-family: Arial; font-size: 20px; font-style: normal; font-weight: normal; text-decoration: none; text-transform: none; letter-spacing: 2px; color: #CCFFFF; padding: 15px;  border-bottom: 2px solid blue;\n",
    "\"><b>About</b> license"
   ]
  },
  {
   "cell_type": "markdown",
   "metadata": {},
   "source": [
    "<div style=\"font-size:14px; font-family:Verdana; border-radius:10px; border: #4E5672 solid; padding: 15px; background-color: #CCFFCC; text-align:left; color: #4E5672\">\n",
    "\n",
    "<h3 align=\"left\"><font color='#4E5672'>✅ License:</font></h3>\n",
    "\n",
    "None!\n",
    "\n",
    "</div>"
   ]
  },
  {
   "cell_type": "markdown",
   "metadata": {},
   "source": [
    "<a id=\"1\"></a>\n",
    "# <div style=\"padding: 20px; color: cyan; margin: 0; font-size: 30px; font-family: Arial; text-align: left; border-radius: 5px; background-color: #000000; border: 2px solid blue;\"><b>Import Libraries</b></div>"
   ]
  },
  {
   "cell_type": "code",
   "execution_count": null,
   "metadata": {},
   "outputs": [],
   "source": [
    "import sys, os\n",
    "\n",
    "module_path = os.path.abspath(os.path.join('..'))\n",
    "if module_path not in sys.path:\n",
    "    sys.path.append(module_path)\n",
    "\n",
    "import numpy as np\n",
    "import pandas as pd\n",
    "import matplotlib.pyplot as plt\n",
    "import seaborn as sns\n",
    "\n",
    "print(\"Setup Complete!\")"
   ]
  },
  {
   "cell_type": "markdown",
   "metadata": {},
   "source": [
    "<a id=\"1\"></a>\n",
    "# <div style=\"padding: 20px; color: cyan; margin: 0; font-size: 30px; font-family: Arial; text-align: left; border-radius: 5px; background-color: #000000; border: 2px solid blue;\"><b>Crawling Dataset</b></div>"
   ]
  },
  {
   "cell_type": "markdown",
   "metadata": {},
   "source": [
    "> <span style='font-size:15px; font-family:Arial; color: #87CEFA;'><b>\n",
    "Crawling data</b></span>"
   ]
  },
  {
   "cell_type": "markdown",
   "metadata": {},
   "source": [
    "> <span style='font-size:15px; font-family:Arial; color: #87CEFA;'><b>\n",
    "Save collected data</b></span>"
   ]
  },
  {
   "cell_type": "markdown",
   "metadata": {},
   "source": [
    "<a id=\"4\"></a>\n",
    "# <div style=\"padding: 20px; color: cyan; margin: 0; font-size: 30px; font-family: Arial; text-align: left; border-radius: 5px; background-color: #000000; border: 2px solid blue;\"><b>Preprocessing</b></div>"
   ]
  },
  {
   "cell_type": "markdown",
   "metadata": {},
   "source": [
    "<a id=\"4.1\"></a>\n",
    "<h2 style=\" font-family: Arial; font-size: 20px; font-style: normal; font-weight: normal; text-decoration: none; text-transform: none; letter-spacing: 2px; color: #CCFFFF; padding: 15px;  border-bottom: 2px solid blue;\n",
    "\"><b>Read</b> raw data"
   ]
  },
  {
   "cell_type": "code",
   "execution_count": null,
   "metadata": {},
   "outputs": [],
   "source": [
    "raw_train_path = '../train.csv'\n",
    "raw_test_path = '../test.csv'\n",
    "\n",
    "raw_train_df = pd.read_csv(raw_train_path)\n",
    "raw_test_df = pd.read_csv(raw_test_path)"
   ]
  },
  {
   "cell_type": "code",
   "execution_count": null,
   "metadata": {},
   "outputs": [],
   "source": [
    "raw_train_df.head()"
   ]
  },
  {
   "cell_type": "markdown",
   "metadata": {},
   "source": [
    "<a id=\"4.2\"></a>\n",
    "<h2 style=\" font-family: Arial; font-size: 20px; font-style: normal; font-weight: normal; text-decoration: none; text-transform: none; letter-spacing: 2px; color: #CCFFFF; padding: 15px;  border-bottom: 2px solid blue;\n",
    "\"><b>Exploring</b> data"
   ]
  },
  {
   "cell_type": "markdown",
   "metadata": {},
   "source": [
    "> <span style='font-size:15px; font-family:Arial; color: #87CEFA;'><b>\n",
    "How many rows and how many columns does the raw data have? </b></span>"
   ]
  },
  {
   "cell_type": "code",
   "execution_count": null,
   "metadata": {},
   "outputs": [],
   "source": [
    "shape = raw_train_df.shape"
   ]
  },
  {
   "cell_type": "code",
   "execution_count": null,
   "metadata": {},
   "outputs": [],
   "source": [
    "# TEST\n",
    "print(f\"Current shape: {shape}\")\n",
    "\n",
    "if shape[0] > 1000:\n",
    "    print(f\"Your data good!.\")\n",
    "else:\n",
    "    print(f\"Your raw data absolutely small. Please choose larger year interval.!\")"
   ]
  },
  {
   "cell_type": "markdown",
   "metadata": {},
   "source": [
    "> <span style='font-size:15px; font-family:Arial; color: #87CEFA;'><b>\n",
    "What does each line mean? Does it matter if the lines have different meanings? </b></span>"
   ]
  },
  {
   "cell_type": "markdown",
   "metadata": {},
   "source": [
    "<div style=\"font-size:14px; font-family:Verdana; border-radius:10px; border: #4E5672 solid; padding: 15px; background-color: #CCFFCC; text-align:left; color: #4E5672\">\n",
    "\n",
    "\n",
    "<h3 align=\"left\"><font color='#4E5672'>💡 Comment:</font></h3>\n",
    "\n",
    "* TODO: Your observation\n",
    "  \n",
    "</div>"
   ]
  },
  {
   "cell_type": "markdown",
   "metadata": {},
   "source": [
    "> <span style='font-size:15px; font-family:Arial; color: #87CEFA;'><b>\n",
    "Does the raw data have duplicate rows?  </b></span>"
   ]
  },
  {
   "cell_type": "code",
   "execution_count": null,
   "metadata": {},
   "outputs": [],
   "source": [
    "index = raw_train_df.index\n",
    "detectDupSeries = index.duplicated(keep='first')\n",
    "num_duplicated_rows = detectDupSeries.sum()"
   ]
  },
  {
   "cell_type": "code",
   "execution_count": null,
   "metadata": {},
   "outputs": [],
   "source": [
    "if num_duplicated_rows == 0:\n",
    "    print(f\"Your raw data have no duplicated line.!\")\n",
    "else:\n",
    "    if num_duplicated_rows > 1:\n",
    "        ext = \"lines\"\n",
    "    else:\n",
    "        ext = \"line\"\n",
    "    print(f\"Your raw data have {num_duplicated_rows} duplicated \" + ext + \". Please de-deduplicate your raw data.!\")"
   ]
  },
  {
   "cell_type": "code",
   "execution_count": null,
   "metadata": {},
   "outputs": [],
   "source": [
    "# De-deduplicate your raw data\n",
    "if num_duplicated_rows > 0:\n",
    "    raw_train_df = raw_train_df.drop_duplicates(keep='first')\n",
    "    print('Shape after de-deduplicate: ', raw_train_df.shape)"
   ]
  },
  {
   "cell_type": "markdown",
   "metadata": {},
   "source": [
    "> <span style='font-size:15px; font-family:Arial; color: #87CEFA;'><b>\n",
    "What data type does each column currently have? Are there any columns whose data types are not suitable for further processing?  </b></span>"
   ]
  },
  {
   "cell_type": "code",
   "execution_count": null,
   "metadata": {},
   "outputs": [],
   "source": [
    "dtypes = raw_train_df.dtypes"
   ]
  },
  {
   "cell_type": "code",
   "execution_count": null,
   "metadata": {},
   "outputs": [],
   "source": [
    "# TEST\n",
    "dtypes"
   ]
  },
  {
   "cell_type": "markdown",
   "metadata": {},
   "source": [
    "[//]: <> (Text)\n",
    "<span style=\"font-size:14px; font-family:Verdana; color: #ffffff;\"> \n",
    "TODO: Your observation\n",
    "</span>"
   ]
  },
  {
   "cell_type": "markdown",
   "metadata": {},
   "source": [
    "> <span style='font-size:15px; font-family:Arial; color: #87CEFA;'><b>\n",
    "For each column with numeric data type, how are the values distributed? </b></span>"
   ]
  },
  {
   "cell_type": "code",
   "execution_count": null,
   "metadata": {},
   "outputs": [],
   "source": [
    "num_col_info_train_df = raw_train_df.select_dtypes(exclude=['object', 'bool'])\n",
    "\n",
    "def missing_ratio(s):\n",
    "    return (s.isna().mean() * 100).round(1)\n",
    "\n",
    "def median(df):\n",
    "    return (df.quantile(0.5)).round(1)\n",
    "\n",
    "def lower_quartile(df):\n",
    "    return (df.quantile(0.25)).round(1)\n",
    "\n",
    "def upper_quartile(df):\n",
    "    return (df.quantile(0.75)).round(1)\n",
    "\n",
    "num_col_info_train_df = num_col_info_train_df.agg([missing_ratio, \"min\", lower_quartile, median, upper_quartile, \"max\"])"
   ]
  },
  {
   "cell_type": "code",
   "execution_count": null,
   "metadata": {},
   "outputs": [],
   "source": [
    "num_col_info_train_df"
   ]
  },
  {
   "cell_type": "code",
   "execution_count": null,
   "metadata": {},
   "outputs": [],
   "source": [
    "# YOUR CODE HERE (Optional)\n",
    "# You can use Matplotlib to visualize this table for more intuitive"
   ]
  },
  {
   "cell_type": "code",
   "execution_count": null,
   "metadata": {},
   "outputs": [],
   "source": [
    "print(dict(num_col_info_train_df.iloc[0]))"
   ]
  },
  {
   "cell_type": "markdown",
   "metadata": {},
   "source": [
    "\n",
    "> <span style='font-size:15px; font-family:Arial; color: #87CEFA;'><b>\n",
    "For each column with a non-numeric data type, how are the values distributed? </b></span>"
   ]
  },
  {
   "cell_type": "markdown",
   "metadata": {},
   "source": [
    "<div style=\"font-size:14px; font-family:Verdana; border-radius:10px; border: #4E5672 solid; padding: 15px; background-color: #CCFFCC; text-align:left; color: #4E5672\">\n",
    "\n",
    "\n",
    "<h3 align=\"left\"><font color='#4E5672'>💡 Comment:</font></h3>\n",
    "\n",
    "* For non-numeric columns in a Pandas DataFrame, calculate the following:\n",
    "\n",
    "  * Percentage of missing values: This is the percentage of values in the column that are missing, from 0 to 100.\n",
    "  \n",
    "  * Number of unique values: This is the number of different values in the column, excluding missing values. For categorical columns, this is the same as the number of categories.\n",
    "  \n",
    "  * Percentage of each value: This is the percentage of each unique value in the column, sorted by decreasing percentage. Missing values are excluded from this calculation.\n",
    "\n",
    "* To calculate the percentage of each value, you can use a dictionary to store the results, where the key is the value and the value is the percentage. For categorical columns, the method is the same.\n",
    "\n",
    "* Save the results to a Pandas DataFrame called cat_col_info_df, with the following columns:\n",
    "\n",
    "  * Column name: The name of the non-numeric column in the original DataFrame (raw_df)\n",
    "  \n",
    "  * missing_ratio: The percentage of missing values in the column\n",
    "  \n",
    "  * num_values: The number of unique values in the column, excluding missing values\n",
    "  \n",
    "  * value_ratios: A dictionary of the percentage of each unique value in the column, sorted by decreasing percentage\n",
    "\n",
    "* To improve readability, round all values to one decimal place using the .round(1) method.\n",
    "  \n",
    "</div>"
   ]
  },
  {
   "cell_type": "code",
   "execution_count": null,
   "metadata": {},
   "outputs": [],
   "source": [
    "pd.set_option('display.max_colwidth', 100) # For clearly\n",
    "pd.set_option('display.max_columns', None) # For clearly"
   ]
  },
  {
   "cell_type": "code",
   "execution_count": null,
   "metadata": {},
   "outputs": [],
   "source": [
    "cat_col_info_df = raw_train_df.select_dtypes(include='object')\n",
    "\n",
    "def missing_ratio(s):\n",
    "    return (s.isna().mean() * 100).round(1)\n",
    "\n",
    "def num_values(s):\n",
    "    s = s.astype(str).str.split(';')\n",
    "    s = s.explode()\n",
    "    return len(s.value_counts())\n",
    "\n",
    "def value_ratios(s):\n",
    "    s = s.astype(str).str.split(';')\n",
    "    s = s.explode()\n",
    "    totalCount = (~s.isna()).sum()\n",
    "    return ((s.value_counts()/totalCount*100).round(1)).to_dict()\n",
    "\n",
    "cat_col_info_df = cat_col_info_df.agg([missing_ratio, num_values, value_ratios])\n",
    "cat_col_info_df"
   ]
  },
  {
   "cell_type": "code",
   "execution_count": null,
   "metadata": {},
   "outputs": [],
   "source": [
    "# YOUR CODE HERE (Optional)\n",
    "# You can use Matplotlib to visualize this table for more intuitive"
   ]
  },
  {
   "cell_type": "markdown",
   "metadata": {},
   "source": [
    "<a id=\"4.3\"></a>\n",
    "<h2 style=\" font-family: Arial; font-size: 20px; font-style: normal; font-weight: normal; text-decoration: none; text-transform: none; letter-spacing: 2px; color: #CCFFFF; padding: 15px;  border-bottom: 2px solid blue;\n",
    "\"><b>Cleaning </b> data"
   ]
  },
  {
   "cell_type": "markdown",
   "metadata": {},
   "source": [
    "<div style=\"font-size:14px; font-family:Verdana; border-radius:10px; border: #4E5672 solid; padding: 15px; background-color: #CCFFCC; text-align:left; color: #4E5672\">\n",
    "\n",
    "\n",
    "<h3 align=\"left\"><font color='#4E5672'>💡 Comment:</font></h3>\n",
    "\n",
    "* Once the basic statistical properties of the data have been established, the next step is to identify features with a significant number of missing values. These features are not conducive to the analysis process and should be eliminated from the dataset.\n",
    "\n",
    "* The threshold for determining \"significant\" missingness can be tailored to specific objectives. As a general rule, if a feature exhibits a missing value percentage exceeding 75%, it is removed from the dataframe, resulting in an updated dataframe.\n",
    "  \n",
    "</div>\n"
   ]
  },
  {
   "cell_type": "code",
   "execution_count": null,
   "metadata": {},
   "outputs": [],
   "source": [
    "def drop_missing_features(df: pd.DataFrame, missing_lst: dict = dict(num_col_info_train_df.iloc[0]), threshold: float = 75.0) -> pd.DataFrame:\n",
    "    \"\"\"Drop missing features from Pandas dataframe base on given threshold.\n",
    "\n",
    "    Args:\n",
    "        df (pd.DataFrame): Input dataframe for processing.\n",
    "        missing_lst (dict, optional): Dict missing value rate which calculated from previous stage. Defaults to dict(num_col_info_df.iloc[0]).\n",
    "        threshold (float, optional): User threshold for dropping. Defaults to 75.0.\n",
    "\n",
    "    Returns:\n",
    "        pd.DataFrame: Updated dataframe\n",
    "    \"\"\"\n",
    "    if (df is None) or (missing_lst is None) or (threshold is None):\n",
    "        print(f\"[LOG] Invalid.\")\n",
    "        raise ValueError\n",
    "    \n",
    "    # Create a copy of the dataframe to avoid changing the original\n",
    "    df_cp = df.copy()\n",
    "    \n",
    "    # List to maintain the columns to drop\n",
    "    cols_to_trim = []\n",
    "    \n",
    "    for key, value in missing_lst.items():\n",
    "        if float(value) > threshold:\n",
    "            cols_to_trim.append(key)\n",
    "            \n",
    "    if len(cols_to_trim) > 0:\n",
    "        # drop the columns identified using the dataframe drop() method\n",
    "        df_cp = df_cp.drop(columns=cols_to_trim)\n",
    "        print(\"[LOG] Dropped column(s): \" + \" \".join(cols_to_trim))\n",
    "    else:\n",
    "        print(\"[LOG] Have no column(s) to trim.\")\n",
    "        \n",
    "    return df_cp"
   ]
  },
  {
   "cell_type": "code",
   "execution_count": null,
   "metadata": {},
   "outputs": [],
   "source": [
    "raw_train_df = drop_missing_features(raw_train_df, dict(num_col_info_train_df.iloc[0]))"
   ]
  },
  {
   "cell_type": "code",
   "execution_count": null,
   "metadata": {},
   "outputs": [],
   "source": [
    "# TEST\n",
    "raw_train_df.head()"
   ]
  },
  {
   "cell_type": "markdown",
   "metadata": {},
   "source": [
    "<div style=\"font-size:14px; font-family:Verdana; border-radius:10px; border: #4E5672 solid; padding: 15px; background-color: #CCFFCC; text-align:left; color: #4E5672\">\n",
    "\n",
    "\n",
    "<h3 align=\"left\"><font color='#4E5672'>💡 Comment:</font></h3>\n",
    "\n",
    "* Despite eliminating features with a substantial number of missing values, missing values persist in our dataframe. Consequently, we must impute these missing values to render the data suitable for analysis.\n",
    "  \n",
    "</div>\n"
   ]
  },
  {
   "cell_type": "code",
   "execution_count": null,
   "metadata": {},
   "outputs": [],
   "source": [
    "def filling_missing_value(df: pd.DataFrame) -> pd.DataFrame:\n",
    "    \"\"\"Filling missing features from Pandas dataframe\n",
    "    \n",
    "    The first, you need to replace all None values with NaN, fillna only works on nans.\n",
    "    \n",
    "    After that, you replace all NaN values with the mean of the column values.\n",
    "\n",
    "    Args:\n",
    "        df (pd.DataFrame): Input dataframe for processing.\n",
    "\n",
    "    Returns:\n",
    "        pd.DataFrame: Updated dataframe\n",
    "    \"\"\"\n",
    "    if (df is None):\n",
    "        print(f\"[LOG] Invalid.\")\n",
    "        raise ValueError\n",
    "    \n",
    "    # Create a copy of the dataframe to avoid changing the original\n",
    "    df_cp = df.copy()\n",
    "    \n",
    "    # Get the list of columns in the dataframe\n",
    "    cols_list = list(df_cp.columns)\n",
    "    \n",
    "    # Replace all None values with NaN, fillna only works on nans\n",
    "    df_cp.fillna(value=np.nan, inplace=True)\n",
    "    \n",
    "    # Replace all NaN values with the mean of the column values\n",
    "    for col in cols_list:\n",
    "        if df_cp[col].dtype in ['object', 'bool']:\n",
    "            df_cp[col].fillna((df_cp[col].mode()[0]), inplace=True)\n",
    "        elif df_cp[col].dtype in ['int64', 'float64']:\n",
    "            df_cp[col].fillna((df_cp[col].mean()), inplace=True)\n",
    "        \n",
    "    return df_cp\n",
    "    "
   ]
  },
  {
   "cell_type": "code",
   "execution_count": null,
   "metadata": {},
   "outputs": [],
   "source": [
    "raw_train_df = filling_missing_value(df=raw_train_df)"
   ]
  },
  {
   "cell_type": "code",
   "execution_count": null,
   "metadata": {},
   "outputs": [],
   "source": [
    "# TEST\n",
    "raw_train_df.select_dtypes(exclude=['object', 'bool']).agg([missing_ratio, \"min\", lower_quartile, median, upper_quartile, \"max\"])"
   ]
  },
  {
   "cell_type": "code",
   "execution_count": null,
   "metadata": {},
   "outputs": [],
   "source": [
    "raw_train_df.select_dtypes(include=['object', 'bool']).agg([missing_ratio, num_values, value_ratios])"
   ]
  },
  {
   "cell_type": "markdown",
   "metadata": {},
   "source": [
    "<a id=\"4.4\"></a>\n",
    "<h2 style=\" font-family: Arial; font-size: 20px; font-style: normal; font-weight: normal; text-decoration: none; text-transform: none; letter-spacing: 2px; color: #CCFFFF; padding: 15px;  border-bottom: 2px solid blue;\n",
    "\"><b>Transformating </b> data"
   ]
  },
  {
   "cell_type": "markdown",
   "metadata": {},
   "source": [
    "> <span style='font-size:15px; font-family:Arial; color: #87CEFA;'><b>\n",
    "Is the collected data reasonable? </b></span>"
   ]
  },
  {
   "cell_type": "markdown",
   "metadata": {},
   "source": [
    "<a id=\"5\"></a>\n",
    "# <div style=\"padding: 20px; color: cyan; margin: 0; font-size: 30px; font-family: Arial; text-align: left; border-radius: 5px; background-color: #000000; border: 2px solid blue;\"><b>Exploratory Data Analysis</b></div>"
   ]
  },
  {
   "cell_type": "markdown",
   "metadata": {},
   "source": [
    "<a id=\"5.1\"></a>\n",
    "<h2 style=\" font-family: Arial; font-size: 20px; font-style: normal; font-weight: normal; text-decoration: none; text-transform: none; letter-spacing: 2px; color: #CCFFFF; padding: 15px;  border-bottom: 2px solid blue;\n",
    "\"><b>Exploring </b> data"
   ]
  },
  {
   "cell_type": "code",
   "execution_count": null,
   "metadata": {},
   "outputs": [],
   "source": [
    "cleaned_train_df = raw_train_df.copy()"
   ]
  },
  {
   "cell_type": "code",
   "execution_count": null,
   "metadata": {},
   "outputs": [],
   "source": [
    "cleaned_train_df.head()"
   ]
  },
  {
   "cell_type": "code",
   "execution_count": null,
   "metadata": {},
   "outputs": [],
   "source": [
    "cleaned_train_df.shape"
   ]
  },
  {
   "cell_type": "markdown",
   "metadata": {},
   "source": [
    "> <span style='font-size:15px; font-family:Arial; color: #87CEFA;'><b>\n",
    "Numerical analysis using descriptive statistics </b></span>"
   ]
  },
  {
   "cell_type": "markdown",
   "metadata": {},
   "source": [
    "\n",
    "\n",
    "\n",
    "\n",
    "<div style=\"font-size:14px; font-family:Verdana; border-radius:10px; border: #4E5672 solid; padding: 15px; background-color: #CCFFCC; text-align:left; color: #4E5672\">\n",
    "\n",
    "\n",
    "<h3 align=\"left\"><font color='#4E5672'>💡 Comment:</font></h3>\n",
    "\n",
    "* Basic descriptive statistics include:\n",
    "\n",
    "  * Mean: The average value of all the data points in the dataset.\n",
    "    \n",
    "  * Median: The middle value of the dataset when the data points are sorted in ascending order.\n",
    "    \n",
    "  * Mode: The most frequent value in the dataset.\n",
    "    \n",
    "  * Range: The difference between the largest and smallest values in the dataset.\n",
    "    \n",
    "  * Interquartile range (IQR): The difference between the 75th and 25th percentiles of the dataset.\n",
    "    \n",
    "  * Variance: A measure of how spread out the data points are around the mean.\n",
    "    \n",
    "  * Standard deviation (std dev): The square root of the variance.\n",
    "    \n",
    "  * Coefficient of variation: A measure of relative dispersion, calculated as the standard deviation divided by the mean.\n",
    "    \n",
    "  * Skewness: A measure of the asymmetry of the distribution.\n",
    "    \n",
    "  * Kurtosis: A measure of the peakedness of the distribution.\n",
    "  \n",
    "</div>\n",
    "\n"
   ]
  },
  {
   "cell_type": "code",
   "execution_count": null,
   "metadata": {},
   "outputs": [],
   "source": [
    "df_copy = cleaned_train_df.select_dtypes(include=['float64', 'int64']).copy()\n",
    "df_copy.describe()"
   ]
  },
  {
   "cell_type": "markdown",
   "metadata": {},
   "source": [
    "\n",
    "[//]: <> (Text)\n",
    "<span style=\"font-size:14px; font-family:Verdana; color: #ffffff;\"> \n",
    "TODO: Give your obervation here\n",
    "</span>"
   ]
  },
  {
   "cell_type": "markdown",
   "metadata": {},
   "source": [
    "> <span style='font-size:15px; font-family:Arial; color: #87CEFA;'><b>\n",
    "Describe the correlation between features in the dataset </b></span>"
   ]
  },
  {
   "cell_type": "markdown",
   "metadata": {},
   "source": [
    "<div style=\"font-size:14px; font-family:Verdana; border-radius:10px; border: #4E5672 solid; padding: 15px; background-color: #CCFFCC; text-align:left; color: #4E5672\">\n",
    "\n",
    "\n",
    "<h3 align=\"left\"><font color='#4E5672'>💡 Comment:</font></h3>\n",
    "\n",
    "* Considering the available features within the training dataset, we want to identify and analyse the relationships between them, and then determine which features within the dataset significantly contribute to our solution goal. \n",
    "  \n",
    "* By using calculation and visualisation, Python allows us to create a correlation matrix, which is a table that represents the correlation coefficients between different variables.\n",
    "  \n",
    "</div>\n"
   ]
  },
  {
   "cell_type": "code",
   "execution_count": null,
   "metadata": {},
   "outputs": [],
   "source": [
    "# PRE-PROCESSING IF NEEDED\n",
    "# YOUR CODE HERE (OPTION) "
   ]
  },
  {
   "cell_type": "code",
   "execution_count": null,
   "metadata": {},
   "outputs": [],
   "source": [
    "# YOUR CODE HERE\n",
    "# create a copy\n",
    "df_copy = cleaned_train_df.select_dtypes(include=['float64', 'int64']).copy()\n",
    "\n",
    "# # Exclude the categorical features from the matrix\n",
    "# df_copy.drop(['...'], inplace=True, axis='columns')\n",
    "\n",
    "# plot a correlation matrix\n",
    "fig, ax = plt.subplots(figsize=(10,10))\n",
    "sns.heatmap(df_copy.corr(), cmap='RdBu', center=0,ax=ax)\n",
    "plt.show()"
   ]
  },
  {
   "cell_type": "markdown",
   "metadata": {},
   "source": [
    "<a id=\"5.2\"></a>\n",
    "<h2 style=\" font-family: Arial; font-size: 20px; font-style: normal; font-weight: normal; text-decoration: none; text-transform: none; letter-spacing: 2px; color: #CCFFFF; padding: 15px;  border-bottom: 2px solid blue;\n",
    "\"><b>Making </b> question"
   ]
  },
  {
   "cell_type": "markdown",
   "metadata": {},
   "source": [
    "<div style=\"font-size:14px; font-family:Verdana; border-radius:10px; border: #4E5672 solid; padding: 15px; background-color: #CCFFCC; text-align:left; color: #4E5672\">\n",
    "\n",
    "\n",
    "<h3 align=\"left\"><font color='#4E5672'>💡 Comment:</font></h3>\n",
    "\n",
    "* After exploring the data, we have a better understanding of the data. Now let's see what questions can be answered with this data.\n",
    "\n",
    "  * **A possible question is:** \n",
    "\n",
    "  * **Answering this question will** help us to see \n",
    "\n",
    "  * **How we answer this question**: we will consider\n",
    "  \n",
    "</div>\n"
   ]
  },
  {
   "cell_type": "markdown",
   "metadata": {},
   "source": [
    "> <span style='font-size:15px; font-family:Arial; color: #87CEFA;'><b>\n",
    "Pre-processing</b></span>"
   ]
  },
  {
   "cell_type": "markdown",
   "metadata": {},
   "source": [
    "\n",
    "> <span style='font-size:15px; font-family:Arial; color: #87CEFA;'><b>\n",
    "Analyzing to get the answer</b></span>"
   ]
  },
  {
   "cell_type": "markdown",
   "metadata": {},
   "source": [
    "<a id=\"6\"></a>\n",
    "# <div style=\"padding: 20px; color: cyan; margin: 0; font-size: 30px; font-family: Arial; text-align: left; border-radius: 5px; background-color: #000000; border: 2px solid blue;\"><b>Machine Learning Model</b></div>"
   ]
  },
  {
   "cell_type": "markdown",
   "metadata": {},
   "source": [
    "<a id=\"6.1\"></a>\n",
    "<h2 style=\" font-family: Arial; font-size: 20px; font-style: normal; font-weight: normal; text-decoration: none; text-transform: none; letter-spacing: 2px; color: #CCFFFF; padding: 15px;  border-bottom: 2px solid blue;\n",
    "\"><b>Data </b> Preparation"
   ]
  },
  {
   "cell_type": "markdown",
   "metadata": {},
   "source": [
    "<a id=\"6.2\"></a>\n",
    "<h2 style=\" font-family: Arial; font-size: 20px; font-style: normal; font-weight: normal; text-decoration: none; text-transform: none; letter-spacing: 2px; color: #CCFFFF; padding: 15px;  border-bottom: 2px solid blue;\n",
    "\"><b>Feature </b> engineering"
   ]
  },
  {
   "cell_type": "markdown",
   "metadata": {},
   "source": [
    "<a id=\"6.3\"></a>\n",
    "<h2 style=\" font-family: Arial; font-size: 20px; font-style: normal; font-weight: normal; text-decoration: none; text-transform: none; letter-spacing: 2px; color: #CCFFFF; padding: 15px;  border-bottom: 2px solid blue;\n",
    "\"><b>Training </b> model"
   ]
  },
  {
   "cell_type": "markdown",
   "metadata": {},
   "source": [
    "<a id=\"6.4\"></a>\n",
    "<h2 style=\" font-family: Arial; font-size: 20px; font-style: normal; font-weight: normal; text-decoration: none; text-transform: none; letter-spacing: 2px; color: #CCFFFF; padding: 15px;  border-bottom: 2px solid blue;\n",
    "\"><b>Evaluation </b>"
   ]
  },
  {
   "cell_type": "markdown",
   "metadata": {},
   "source": [
    "<a id=\"6.5\"></a>\n",
    "<h2 style=\" font-family: Arial; font-size: 20px; font-style: normal; font-weight: normal; text-decoration: none; text-transform: none; letter-spacing: 2px; color: #CCFFFF; padding: 15px;  border-bottom: 2px solid blue;\n",
    "\"><b>Prediction </b>"
   ]
  },
  {
   "cell_type": "markdown",
   "metadata": {},
   "source": [
    "<a id=\"6.6\"></a>\n",
    "<h2 style=\" font-family: Arial; font-size: 20px; font-style: normal; font-weight: normal; text-decoration: none; text-transform: none; letter-spacing: 2px; color: #CCFFFF; padding: 15px;  border-bottom: 2px solid blue;\n",
    "\"><b>Results </b> analysis"
   ]
  },
  {
   "cell_type": "markdown",
   "metadata": {},
   "source": [
    "<a id=\"7\"></a>\n",
    "# <div style=\"padding: 20px; color: cyan; margin: 0; font-size: 30px; font-family: Arial; text-align: left; border-radius: 5px; background-color: #000000; border: 2px solid blue;\"><b>Conclusion</b></div>"
   ]
  },
  {
   "cell_type": "markdown",
   "metadata": {},
   "source": [
    "<a id=\"8\"></a>\n",
    "# <div style=\"padding: 20px; color: cyan; margin: 0; font-size: 30px; font-family: Arial; text-align: left; border-radius: 5px; background-color: #000000; border: 2px solid blue;\"><b>Author Message</b></div>"
   ]
  },
  {
   "cell_type": "markdown",
   "metadata": {},
   "source": [
    "[//]: <> (Author Message)\n",
    "<div style=\" border-radius:10px; border:1px solid blue; padding: 15px; background-color:#CCFFCC; color: #4E5672; font-size:90%; text-align:left;\">\n",
    "\n",
    "<h4><b>Author :</b> Nguyen Tuan Thanh </h4>\n",
    "\n",
    "<h4> <b>Some information:</b> </h4>\n",
    "\n",
    "<b>👉 Read more project :</b> <span style=\"color: #00FF00;\">https://www.kaggle.com/nttthanh</span> <br>\n",
    "<b>👉 Shoot me mails :</b> <span style=\"color: #00FF00;\">thanh.ntt0504@gmail.com</span><br>\n",
    "<b>👉 Connect on LinkedIn :</b> <span style=\"color: #00FF00;\">https://www.linkedin.com/in/ntthanh0504/</span> <br>\n",
    "<b>👉 Explore Github :</b> <span style=\"color: #00FF00;\">https://github.com/ntthanh0504</span> <br>\n",
    "    \n",
    "<center> <strong style=\"color: orange;\"> If you liked this Notebook, please do upvote. </strong>\n",
    "    \n",
    "<center> <strong style=\"color: orange;\"> If you have any questions, feel free to comment! </strong>\n",
    "    "
   ]
  },
  {
   "cell_type": "markdown",
   "metadata": {},
   "source": []
  }
 ],
 "metadata": {
  "kernelspec": {
   "display_name": "env",
   "language": "python",
   "name": "python3"
  },
  "language_info": {
   "codemirror_mode": {
    "name": "ipython",
    "version": 3
   },
   "file_extension": ".py",
   "mimetype": "text/x-python",
   "name": "python",
   "nbconvert_exporter": "python",
   "pygments_lexer": "ipython3",
   "version": "3.11.3"
  }
 },
 "nbformat": 4,
 "nbformat_minor": 2
}
