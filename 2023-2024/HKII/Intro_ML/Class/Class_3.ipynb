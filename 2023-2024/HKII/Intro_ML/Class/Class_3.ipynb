{
 "cells": [
  {
   "cell_type": "code",
   "execution_count": 1,
   "metadata": {},
   "outputs": [],
   "source": [
    "import torch"
   ]
  },
  {
   "cell_type": "code",
   "execution_count": 3,
   "metadata": {},
   "outputs": [
    {
     "name": "stdout",
     "output_type": "stream",
     "text": [
      "tensor(1.5514)\n"
     ]
    }
   ],
   "source": [
    "p = torch.tensor([0.0, 1.0, 0.0])\n",
    "t = torch.tensor([1.0, 0.0, 0.0])\n",
    "\n",
    "loss = torch.nn.CrossEntropyLoss()\n",
    "output = loss(p, t)\n",
    "print(output)"
   ]
  },
  {
   "cell_type": "code",
   "execution_count": 4,
   "metadata": {},
   "outputs": [
    {
     "name": "stdout",
     "output_type": "stream",
     "text": [
      "nan\n"
     ]
    },
    {
     "name": "stderr",
     "output_type": "stream",
     "text": [
      "C:\\Users\\Thanh\\AppData\\Local\\Temp\\ipykernel_17576\\2703546047.py:6: RuntimeWarning: divide by zero encountered in log\n",
      "  loss = np.sum(-t * np.log(p))\n",
      "C:\\Users\\Thanh\\AppData\\Local\\Temp\\ipykernel_17576\\2703546047.py:6: RuntimeWarning: invalid value encountered in multiply\n",
      "  loss = np.sum(-t * np.log(p))\n"
     ]
    }
   ],
   "source": [
    "import numpy as np\n",
    "\n",
    "p = np.array([0.0, 1.0, 0.0])\n",
    "t = np.array([1.0, 0.0, 0.0])\n",
    "\n",
    "loss = np.sum(-t * np.log(p))\n",
    "\n",
    "print(loss)"
   ]
  },
  {
   "cell_type": "code",
   "execution_count": null,
   "metadata": {},
   "outputs": [],
   "source": []
  }
 ],
 "metadata": {
  "kernelspec": {
   "display_name": "env",
   "language": "python",
   "name": "python3"
  },
  "language_info": {
   "codemirror_mode": {
    "name": "ipython",
    "version": 3
   },
   "file_extension": ".py",
   "mimetype": "text/x-python",
   "name": "python",
   "nbconvert_exporter": "python",
   "pygments_lexer": "ipython3",
   "version": "3.11.3"
  }
 },
 "nbformat": 4,
 "nbformat_minor": 2
}
